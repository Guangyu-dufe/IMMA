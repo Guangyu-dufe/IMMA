{
 "cells": [
  {
   "cell_type": "code",
   "execution_count": 15,
   "id": "initial_id",
   "metadata": {
    "ExecuteTime": {
     "end_time": "2025-04-18T01:02:18.171754Z",
     "start_time": "2025-04-18T01:02:18.166276Z"
    },
    "collapsed": true
   },
   "outputs": [],
   "source": [
    "import pandas as pd\n",
    "import numpy as np\n",
    "import os\n",
    "from pytz import timezone\n",
    "from sympy import false\n",
    "\n",
    "from IPython.core.interactiveshell import InteractiveShell\n",
    "InteractiveShell.ast_node_interactivity = \"all\"\n"
   ]
  },
  {
   "cell_type": "code",
   "execution_count": 95,
   "id": "3543f436f77c524d",
   "metadata": {
    "ExecuteTime": {
     "end_time": "2025-04-18T01:17:59.240262Z",
     "start_time": "2025-04-18T01:17:59.180264Z"
    }
   },
   "outputs": [
    {
     "data": {
      "image/png": "[encoded data removed]",
      "text/plain": [
       "<Figure size 500x300 with 1 Axes>"
      ]
     },
     "metadata": {},
     "output_type": "display_data"
    }
   ],
   "source": [
    "import matplotlib.pyplot as plt\n",
    "import random\n",
    "random_column = random.choice(sd_his.columns)\n",
    "data_to_plot = sd_his[random_column].iloc[:288]\n",
    "plt.figure(figsize=(5, 3))\n",
    "plt.plot(data_to_plot, linestyle='-', color='b')\n",
    "plt.axis('off')\n",
    "plt.show()\n",
    "# 这意味着LargsT的数据是Local Time"
   ]
  },
  {
   "cell_type": "code",
   "execution_count": 2,
   "id": "2db991d579d845e1",
   "metadata": {},
   "outputs": [
    {
     "name": "stdout",
     "output_type": "stream",
     "text": [
      "Empty DataFrame\n",
      "Columns: [ID, Lat, Lng, District, County, Fwy, Lanes, Type, Direction, ID2]\n",
      "Index: []\n"
     ]
    },
    {
     "data": {
      "text/html": [
       "<div>\n",
       "<style scoped>\n",
       "    .dataframe tbody tr th:only-of-type {\n",
       "        vertical-align: middle;\n",
       "    }\n",
       "\n",
       "    .dataframe tbody tr th {\n",
       "        vertical-align: top;\n",
       "    }\n",
       "\n",
       "    .dataframe thead th {\n",
       "        text-align: right;\n",
       "    }\n",
       "</style>\n",
       "<table border=\"1\" class=\"dataframe\">\n",
       "  <thead>\n",
       "    <tr style=\"text-align: right;\">\n",
       "      <th></th>\n",
       "      <th>ID</th>\n",
       "      <th>Lat</th>\n",
       "      <th>Lng</th>\n",
       "      <th>District</th>\n",
       "      <th>County</th>\n",
       "      <th>Fwy</th>\n",
       "      <th>Lanes</th>\n",
       "      <th>Type</th>\n",
       "      <th>Direction</th>\n",
       "      <th>ID2</th>\n",
       "    </tr>\n",
       "  </thead>\n",
       "  <tbody>\n",
       "    <tr>\n",
       "      <th>0</th>\n",
       "      <td>1114091</td>\n",
       "      <td>32.544463</td>\n",
       "      <td>-117.032486</td>\n",
       "      <td>11</td>\n",
       "      <td>San Diego</td>\n",
       "      <td>I5-N</td>\n",
       "      <td>6</td>\n",
       "      <td>Mainline</td>\n",
       "      <td>N</td>\n",
       "      <td>6931</td>\n",
       "    </tr>\n",
       "    <tr>\n",
       "      <th>1</th>\n",
       "      <td>1118333</td>\n",
       "      <td>32.551690</td>\n",
       "      <td>-117.045725</td>\n",
       "      <td>11</td>\n",
       "      <td>San Diego</td>\n",
       "      <td>I5-N</td>\n",
       "      <td>4</td>\n",
       "      <td>Mainline</td>\n",
       "      <td>N</td>\n",
       "      <td>6932</td>\n",
       "    </tr>\n",
       "    <tr>\n",
       "      <th>2</th>\n",
       "      <td>1118348</td>\n",
       "      <td>32.558459</td>\n",
       "      <td>-117.061845</td>\n",
       "      <td>11</td>\n",
       "      <td>San Diego</td>\n",
       "      <td>I5-N</td>\n",
       "      <td>4</td>\n",
       "      <td>Mainline</td>\n",
       "      <td>N</td>\n",
       "      <td>6933</td>\n",
       "    </tr>\n",
       "  </tbody>\n",
       "</table>\n",
       "</div>"
      ],
      "text/plain": [
       "        ID        Lat         Lng  District     County   Fwy  Lanes      Type  \\\n",
       "0  1114091  32.544463 -117.032486        11  San Diego  I5-N      6  Mainline   \n",
       "1  1118333  32.551690 -117.045725        11  San Diego  I5-N      4  Mainline   \n",
       "2  1118348  32.558459 -117.061845        11  San Diego  I5-N      4  Mainline   \n",
       "\n",
       "  Direction   ID2  \n",
       "0         N  6931  \n",
       "1         N  6932  \n",
       "2         N  6933  "
      ]
     },
     "execution_count": 2,
     "metadata": {},
     "output_type": "execute_result"
    }
   ],
   "source": [
    "ca_meta = pd.read_csv('./ca_meta.csv')\n",
    "sd_meta = ca_meta[ca_meta.District == 11]\n",
    "sd_meta = sd_meta.reset_index()\n",
    "sd_meta = sd_meta.drop(columns=['index'])\n",
    "sd_meta.to_csv('sd_meta.csv', index=False)\n",
    "print(sd_meta[sd_meta.duplicated(subset=['Lat', 'Lng'])])\n",
    "sd_meta.head(3)"
   ]
  },
  {
   "cell_type": "code",
   "execution_count": 18,
   "id": "5228c450f55e82b6",
   "metadata": {
    "ExecuteTime": {
     "end_time": "2025-04-18T01:57:42.196266Z",
     "start_time": "2025-04-18T01:57:41.962841Z"
    }
   },
   "outputs": [
    {
     "name": "stdout",
     "output_type": "stream",
     "text": [
      "716\n",
      "(8600, 8600)\n",
      "(716, 716)\n"
     ]
    },
    {
     "data": {
      "text/plain": [
       "{0: 'Accident',\n",
       " 1: 'Broken-Vehicle',\n",
       " 2: 'Congestion',\n",
       " 3: 'Construction',\n",
       " 4: 'Event',\n",
       " 5: 'Flow-Incident',\n",
       " 6: 'Lane-Blocked'}"
      ]
     },
     "execution_count": 18,
     "metadata": {},
     "output_type": "execute_result"
    },
    {
     "data": {
      "text/plain": [
       "array([1, 2, 3, 4, 0])"
      ]
     },
     "execution_count": 18,
     "metadata": {},
     "output_type": "execute_result"
    },
    {
     "data": {
      "text/plain": [
       "np.False_"
      ]
     },
     "execution_count": 18,
     "metadata": {},
     "output_type": "execute_result"
    },
    {
     "data": {
      "text/plain": [
       "array(['Delays of one minute on John J Montgomery Fwy Northbound in San Diego. Average speed five mph.',\n",
       "       'Delays of two minutes on John J Montgomery Fwy Northbound in San Diego. Average speed five mph.',\n",
       "       'Delays of four minutes on John J Montgomery Fwy Northbound in San Diego. Average speed five mph.',\n",
       "       ..., 'Car fire on CA-905 Eastbound at Exit 9 Siempre Viva Rd.',\n",
       "       'Lane closed on exit ramp due to construction on CA-905 at Exit 9 Siempre Viva Rd.',\n",
       "       'Traffic signal failure on CA-905 Westbound at Siempre Viva Rd.'],\n",
       "      shape=(19098,), dtype=object)"
      ]
     },
     "execution_count": 18,
     "metadata": {},
     "output_type": "execute_result"
    },
    {
     "data": {
      "application/vnd.jupyter.widget-view+json": {
       "model_id": "bf4812af6056494baeac1ecade465168",
       "version_major": 2,
       "version_minor": 0
      },
      "text/plain": [
       "  0%|          | 0/52563 [00:00<?, ?it/s]"
      ]
     },
     "metadata": {},
     "output_type": "display_data"
    },
    {
     "data": {
      "text/plain": [
       "((105408, 716), (105408, 716), (105408, 716))"
      ]
     },
     "execution_count": 18,
     "metadata": {},
     "output_type": "execute_result"
    },
    {
     "data": {
      "text/plain": [
       "np.int64(132962)"
      ]
     },
     "execution_count": 18,
     "metadata": {},
     "output_type": "execute_result"
    }
   ],
   "source": [
    "year = '2020'\n",
    "dataset_name = './SD/'\n",
    "datadir = dataset_name+'finaldata/'\n",
    "adjdir = dataset_name+'graph/'\n",
    "\n",
    "os.makedirs(datadir, exist_ok=True)\n",
    "os.makedirs(adjdir, exist_ok=True)\n",
    "\n",
    "sd_meta_id2 = sd_meta.ID2.values.tolist()\n",
    "print(len(sd_meta_id2))\n",
    "ca_rn_adj = np.load('./ca_rn_adj.npy')\n",
    "print(ca_rn_adj.shape)\n",
    "sd_rn_adj = ca_rn_adj[sd_meta_id2]\n",
    "sd_rn_adj = sd_rn_adj[:,sd_meta_id2]\n",
    "print(sd_rn_adj.shape)\n",
    "np.savez(adjdir+year+'_adj.npz', x = sd_rn_adj)\n",
    "sd_meta.ID = sd_meta.ID.astype(str)\n",
    "sd_meta_id = sd_meta.ID.values.tolist()\n",
    "\n",
    "\n",
    "\n",
    "ca_his = pd.read_hdf('./ca_his_raw_' + year +'.h5')\n",
    "sensor_event = pd.read_csv(\"./Sensor_100m_Events_01Jan_31Dec_SD.csv\")\n",
    "sd_his = ca_his[sd_meta_id]\n",
    "type_category = pd.Categorical(sensor_event['Type'])\n",
    "sensor_event['Type_Code'] = type_category.codes\n",
    "mapping = dict(enumerate(type_category.categories))\n",
    "mapping\n",
    "\n",
    "sensor_event['Severity'].unique()\n",
    "\n",
    "\n",
    "sensor_event = sensor_event[['Type_Code', 'Severity', # category\n",
    "                             'Description', # text\n",
    "                             'StartTime(Local)', 'EndTime(Local)','ID']]\n",
    "has_null = sensor_event.isnull().values.any()\n",
    "has_null\n",
    "\n",
    "sensor_event['Description'].unique()\n",
    "\n",
    "\n",
    "from tqdm.notebook import tqdm\n",
    "\n",
    "event_type_code = pd.DataFrame(-1, index=sd_his.index, columns=sd_his.columns)\n",
    "event_severity = pd.DataFrame(-1, index=sd_his.index, columns=sd_his.columns)\n",
    "event_description = pd.DataFrame('', index=sd_his.index, columns=sd_his.columns)\n",
    "\n",
    "for _, event in tqdm(sensor_event.iterrows(), total=len(sensor_event)):\n",
    "    event_id = str(event['ID'])\n",
    "    if event_id not in sd_his.columns:\n",
    "        continue\n",
    "    mask = (sd_his.index >= event['StartTime(Local)']) & (sd_his.index <= event['EndTime(Local)'])\n",
    "    event_type_code.loc[mask, event_id] = event['Type_Code']\n",
    "    event_severity.loc[mask, event_id] = event['Severity']\n",
    "    event_description.loc[mask, event_id] = event['Description']\n",
    "# about 30s\n",
    "\n",
    "event_type_code.shape, event_severity.shape, event_description.shape\n",
    "\n",
    "\n",
    "non_empty = (event_description != '')\n",
    "total_non_empty = non_empty.sum().sum()\n",
    "total_non_empty\n",
    "\n",
    "np.savez(datadir+year+'.npz',x =sd_his.values , \n",
    "         event_type_code = event_type_code.values,\n",
    "         event_severity = event_severity.values,\n",
    "         event_description = event_description.values)"
   ]
  },
  {
   "cell_type": "code",
   "execution_count": 19,
   "id": "9de6cdab3cee6426",
   "metadata": {
    "ExecuteTime": {
     "end_time": "2025-04-18T01:58:28.326701Z",
     "start_time": "2025-04-18T01:58:24.485362Z"
    }
   },
   "outputs": [
    {
     "name": "stdout",
     "output_type": "stream",
     "text": [
      "1.0\n",
      "0.0\n",
      "edge number 17319\n",
      "node degree 24.18854748603352\n",
      "sparsity 3.378288755032614\n"
     ]
    }
   ],
   "source": [
    "# code for checking adj stat\n",
    "sd_rn_adj = np.load(adjdir+year+'_adj.npz')['x']\n",
    "node_num = sd_rn_adj.shape[0]\n",
    "\n",
    "print(sd_rn_adj[0,0])\n",
    "sd_rn_adj[np.arange(node_num), np.arange(node_num)] = 0\n",
    "print(sd_rn_adj[0,0])\n",
    "\n",
    "print('edge number', np.count_nonzero(sd_rn_adj))\n",
    "print('node degree', np.mean(np.count_nonzero(sd_rn_adj, axis=-1)))\n",
    "print('sparsity', np.count_nonzero(sd_rn_adj) / (node_num**2) * 100)"
   ]
  },
  {
   "cell_type": "code",
   "execution_count": 21,
   "id": "82a099f3a24a58e4",
   "metadata": {
    "ExecuteTime": {
     "end_time": "2025-04-18T02:10:25.525512Z",
     "start_time": "2025-04-18T02:10:23.927649Z"
    }
   },
   "outputs": [
    {
     "data": {
      "text/plain": [
       "'../TrafficStream_V2_Detect/data/SD'"
      ]
     },
     "execution_count": 21,
     "metadata": {},
     "output_type": "execute_result"
    }
   ],
   "source": [
    "import shutil\n",
    "\n",
    "target_dir = '../TrafficStream_V2_Detect/data'\n",
    "shutil.copytree(dataset_name, os.path.join(target_dir, 'SD'))"
   ]
  },
  {
   "cell_type": "code",
   "execution_count": 22,
   "id": "fe63e5a93d3db4bf",
   "metadata": {
    "ExecuteTime": {
     "end_time": "2025-04-18T02:11:01.777279Z",
     "start_time": "2025-04-18T02:11:01.770492Z"
    }
   },
   "outputs": [
    {
     "name": "stdout",
     "output_type": "stream",
     "text": [
      "['x', 'event_type_code', 'event_severity', 'event_description']\n",
      "['x', 'event_type_code', 'event_severity', 'event_description']\n",
      "['x', 'event_type_code', 'event_severity', 'event_description']\n",
      "['x', 'event_type_code', 'event_severity', 'event_description']\n"
     ]
    }
   ],
   "source": [
    "for zip_file in os.listdir(os.path.join(target_dir, 'SD', 'finaldata')):\n",
    "    data = np.load(os.path.join(target_dir, 'SD', 'finaldata',zip_file), allow_pickle=True)\n",
    "    print(data.files)"
   ]
  },
  {
   "cell_type": "code",
   "execution_count": null,
   "id": "64a0289083072978",
   "metadata": {},
   "outputs": [],
   "source": []
  }
 ],
 "metadata": {
  "kernelspec": {
   "display_name": "Python 3",
   "language": "python",
   "name": "python3"
  },
  "language_info": {
   "codemirror_mode": {
    "name": "ipython",
    "version": 3
   },
   "file_extension": ".py",
   "mimetype": "text/x-python",
   "name": "python",
   "nbconvert_exporter": "python",
   "pygments_lexer": "ipython3",
   "version": "3.12.9"
  }
 },
 "nbformat": 4,
 "nbformat_minor": 5
}
