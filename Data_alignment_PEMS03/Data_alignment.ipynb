{
 "cells": [
  {
   "cell_type": "code",
   "id": "c284ebcd-e553-4252-b7f3-579aaee7712a",
   "metadata": {},
   "source": [
    "# !tar -xzvf TrafficEvents_Aug16_Dec20_Publish.tar.gz"
   ],
   "outputs": [],
   "execution_count": null
  },
  {
   "cell_type": "code",
   "id": "fdd19c92-f981-489c-8c17-acd877b8e0c4",
   "metadata": {},
   "source": "!ls -lah",
   "outputs": [],
   "execution_count": null
  },
  {
   "cell_type": "code",
   "id": "9804278a-4d1b-40ca-897d-dc9f2d902036",
   "metadata": {},
   "source": [
    "import pandas as pd\n",
    "import geopandas as gpd\n",
    "\n",
    "from pytz import timezone\n",
    "from datetime import datetime\n",
    "\n",
    "from shapely.geometry import Point"
   ],
   "outputs": [],
   "execution_count": null
  },
  {
   "cell_type": "markdown",
   "id": "e69e2dda-1107-4fb5-a96c-0c63a83b499b",
   "metadata": {},
   "source": [
    "# Map clusters"
   ]
  },
  {
   "cell_type": "code",
   "id": "202dbc4b-9c8d-48f4-be32-5062c0d08910",
   "metadata": {},
   "source": [
    "import pandas as pd\n",
    "import geopandas as gpd\n",
    "from shapely.geometry import Point\n",
    "import matplotlib.pyplot as plt\n",
    "import folium\n",
    "from folium.plugins import FastMarkerCluster"
   ],
   "outputs": [],
   "execution_count": null
  },
  {
   "cell_type": "code",
   "id": "7717e30a-27c4-40a3-ae18-019fba9f95ef",
   "metadata": {},
   "source": [
    "m = folium.Map(location=[38.575764, -121.478851], zoom_start=10)\n",
    "\n",
    "\n",
    "add_circle_markers(traffic_events_non_highway_gdf, m, 'red', popup_column='Street')\n",
    "add_circle_markers(sensors_gdf, m, 'blue', popup_column='ID')\n",
    "\n",
    "# Display the map\n",
    "m"
   ],
   "outputs": [],
   "execution_count": null
  },
  {
   "cell_type": "code",
   "id": "2a2dc4d6-fa95-4b7d-883f-fb7996e64e5f",
   "metadata": {},
   "source": [],
   "outputs": [],
   "execution_count": null
  },
  {
   "cell_type": "markdown",
   "id": "4ec5817b-a0b0-4bcd-b79e-15f0088909c1",
   "metadata": {
    "tags": []
   },
   "source": [
    "# Time and spatial clip"
   ]
  },
  {
   "cell_type": "code",
   "id": "38ca151a-4963-47f4-a3ff-4ee16f48e4fa",
   "metadata": {},
   "source": [
    "pacific_tz = timezone('US/Pacific')\n",
    "utc_tz = timezone('UTC')"
   ],
   "outputs": [],
   "execution_count": null
  },
  {
   "cell_type": "code",
   "id": "53df35c5-ee45-48eb-a655-d1627b9f1025",
   "metadata": {},
   "source": [
    "# csv_file = 'TrafficEvents_Aug16_Dec20_Publish.csv'\n",
    "csv_file = 'TrafficEvents_Sep1_Nov30_Sacramento.csv'\n",
    "\n",
    "# Define time range\n",
    "start_time_local = '2018-09-01 00:00'\n",
    "end_time_local = '2018-12-01 00:00'\n",
    "\n",
    "start_time_utc = pacific_tz.localize(datetime.strptime(start_time_local, '%Y-%m-%d %H:%M')).astimezone(utc_tz).strftime('%Y-%m-%d %H:%M:%S')\n",
    "end_time_utc = pacific_tz.localize(datetime.strptime(end_time_local, '%Y-%m-%d %H:%M')).astimezone(utc_tz).strftime('%Y-%m-%d %H:%M:%S')\n",
    "\n",
    "# Define spatial range\n",
    "lat_range = [38.375, 38.853]\n",
    "long_range = [-121.735, -121.112]"
   ],
   "outputs": [],
   "execution_count": null
  },
  {
   "cell_type": "code",
   "id": "6dc0dfd3-206a-4efc-ab0b-3faed470d4fe",
   "metadata": {},
   "source": [
    "filtered_chunks = []\n",
    "# chunk size\n",
    "chunksize = 10 ** 6\n",
    "\n",
    "# Iterate over the CSV file in chunks\n",
    "for chunk in pd.read_csv(csv_file, chunksize=chunksize):\n",
    "    # Filter by time\n",
    "    chunk_filtered_time = chunk[(chunk['EndTime(UTC)'] >= start_time_utc) & (chunk['StartTime(UTC)'] <= end_time_utc)]\n",
    "    \n",
    "    # Filter by spatial\n",
    "    chunk_filtered = chunk_filtered_time[\n",
    "        (chunk_filtered_time['LocationLat'] >= lat_range[0]) & \n",
    "        (chunk_filtered_time['LocationLat'] <= lat_range[1]) &\n",
    "        (chunk_filtered_time['LocationLng'] >= long_range[0]) & \n",
    "        (chunk_filtered_time['LocationLng'] <= long_range[1])\n",
    "    ]\n",
    "\n",
    "    if not chunk_filtered.empty:\n",
    "        filtered_chunks.append(chunk_filtered)\n",
    "\n",
    "# Concatenate all filtered chunks into a single DataFrame\n",
    "filtered_df = pd.concat(filtered_chunks)\n",
    "\n",
    "# Convert 'StartTime(UTC)' and 'EndTime(UTC)' to US/Pacific and add as new columns\n",
    "filtered_df['StartTime(Local)'] = filtered_df['StartTime(UTC)'].apply(lambda x: utc_tz.localize(datetime.strptime(x, '%Y-%m-%d %H:%M:%S')).astimezone(pacific_tz).strftime('%Y-%m-%d %H:%M:%S'))\n",
    "filtered_df['EndTime(Local)'] = filtered_df['EndTime(UTC)'].apply(lambda x: utc_tz.localize(datetime.strptime(x, '%Y-%m-%d %H:%M:%S')).astimezone(pacific_tz).strftime('%Y-%m-%d %H:%M:%S'))"
   ],
   "outputs": [],
   "execution_count": null
  },
  {
   "cell_type": "code",
   "id": "8a2b7f6a-63a8-4d28-a2f7-beaec9e09cf5",
   "metadata": {},
   "source": [
    "filtered_df.to_csv('TrafficEvents_Sep1_Nov30_Sacramento.csv', index=False)"
   ],
   "outputs": [],
   "execution_count": null
  },
  {
   "cell_type": "code",
   "id": "b278b8e2-921b-46f0-85a1-cdecf83e0a10",
   "metadata": {},
   "source": [
    "filtered_df.count()"
   ],
   "outputs": [],
   "execution_count": null
  },
  {
   "cell_type": "code",
   "id": "f61a8c4e-5750-47b2-8151-7a04fa805110",
   "metadata": {},
   "source": [
    "!ls -lah"
   ],
   "outputs": [],
   "execution_count": null
  },
  {
   "cell_type": "markdown",
   "id": "c7820e86-595f-4e80-a181-65d59583634c",
   "metadata": {
    "tags": []
   },
   "source": [
    "# Road point processing"
   ]
  },
  {
   "cell_type": "code",
   "id": "5f063379-991f-4e85-ab19-1b59cf63a6a1",
   "metadata": {},
   "source": [
    "import pandas as pd\n",
    "import geopandas as gpd\n",
    "from shapely.geometry import Point\n",
    "import matplotlib.pyplot as plt\n",
    "import folium\n",
    "from folium.plugins import FastMarkerCluster"
   ],
   "outputs": [],
   "execution_count": null
  },
  {
   "cell_type": "code",
   "id": "57edd030-8b04-4a4d-ad17-369204f2df1f",
   "metadata": {},
   "source": [
    "traffic_events_df = pd.read_csv('TrafficEvents_Sep1_Nov30_Sacramento.csv')\n",
    "traffic_events_gdf = gpd.GeoDataFrame(\n",
    "    traffic_events_df,\n",
    "    geometry=gpd.points_from_xy(traffic_events_df.LocationLng, traffic_events_df.LocationLat)\n",
    ")\n",
    "traffic_events_gdf.crs = \"EPSG:4326\""
   ],
   "outputs": [],
   "execution_count": null
  },
  {
   "cell_type": "code",
   "id": "54022a91-ec04-4e89-8ecf-9fda6d3193f5",
   "metadata": {},
   "source": [
    "traffic_events_df.head()"
   ],
   "outputs": [],
   "execution_count": null
  },
  {
   "cell_type": "code",
   "id": "0553d5d4-ce87-4db1-a259-7db79387574a",
   "metadata": {},
   "source": [
    "traffic_events_df.iloc[0]"
   ],
   "outputs": [],
   "execution_count": null
  },
  {
   "cell_type": "code",
   "id": "01aedf01-9720-4c9f-9c6a-0e0219e9edd5",
   "metadata": {},
   "source": [
    "sensors_df =\n",
    "sensors_df.head()\n",
    "sensors_gdf = gpd.GeoDataFrame(\n",
    "    sensors_df,\n",
    "    geometry=gpd.points_from_xy(sensors_df.Longitude, sensors_df.Latitude)\n",
    ")\n",
    "sensors_gdf.crs = \"EPSG:4326\""
   ],
   "outputs": [],
   "execution_count": null
  },
  {
   "cell_type": "code",
   "id": "270d9646-bbcd-4332-acc2-b9b8bd694adc",
   "metadata": {},
   "source": [
    "sensors_df"
   ],
   "outputs": [],
   "execution_count": null
  },
  {
   "cell_type": "code",
   "id": "3bb732b0-0064-461f-8b17-6cdbba308dc2",
   "metadata": {},
   "source": [
    "print(traffic_events_df['Type'].unique())"
   ],
   "outputs": [],
   "execution_count": null
  },
  {
   "cell_type": "code",
   "id": "1d213646-5434-463b-97f9-4bd1515f47d4",
   "metadata": {
    "tags": []
   },
   "source": [
    "print(\"Unique streets in traffic events data:\")\n",
    "print(traffic_events_df['Street'].unique())"
   ],
   "outputs": [],
   "execution_count": null
  },
  {
   "cell_type": "code",
   "id": "5581f674-eb77-4d90-8c70-4594ab7a6dda",
   "metadata": {},
   "source": [
    "print(sensors_df['Fwy'].unique())"
   ],
   "outputs": [],
   "execution_count": null
  },
  {
   "cell_type": "markdown",
   "id": "8c8722eb-def2-4f50-81a5-e68be57e7fbb",
   "metadata": {},
   "source": [
    "## All data points: Traffic v.s. Sensor"
   ]
  },
  {
   "cell_type": "code",
   "id": "433c5273-e232-45ce-b623-66b87f83d8e3",
   "metadata": {},
   "source": [
    "def add_circle_markers(data, map_object, color, popup_column=None):\n",
    "    for idx, row in data.iterrows():\n",
    "        popup_text = row[popup_column] if popup_column else ''\n",
    "        folium.CircleMarker(\n",
    "            location=[row['geometry'].y, row['geometry'].x],\n",
    "            radius=3,\n",
    "            color=color,\n",
    "            fill=True,\n",
    "            fill_color=color,\n",
    "            fill_opacity=0.7,\n",
    "            popup=popup_text\n",
    "        ).add_to(map_object)"
   ],
   "outputs": [],
   "execution_count": null
  },
  {
   "cell_type": "code",
   "id": "4e0d1df2-77a1-4ebe-a0d8-cbd6f1d877e1",
   "metadata": {},
   "source": [
    "m = folium.Map(location=[38.575764, -121.478851], zoom_start=10)\n",
    "\n",
    "add_circle_markers(traffic_events_gdf, m, 'red', popup_column='Street')\n",
    "add_circle_markers(sensors_gdf, m, 'blue', popup_column='ID')\n",
    "\n",
    "m"
   ],
   "outputs": [],
   "execution_count": null
  },
  {
   "cell_type": "markdown",
   "id": "e9d1fc7e-c47c-4632-94e2-18a60c4d1372",
   "metadata": {},
   "source": [
    "## Non highway (filter with street name)"
   ]
  },
  {
   "cell_type": "code",
   "id": "f29fcfb4-d439-4760-ac16-d0dd39b24824",
   "metadata": {},
   "source": [
    "non_highway_pattern = r'\\b(?:St|Street|Blvd|Boulevard|Rd|Road|Dr|Drive|Ave|Avenue|Ln|Lane|Way|Alley|Aly|Walk|Cir|Ct|Pkwy|Trl|Pl|Xing|Expy)\\b'\n",
    "\n",
    "traffic_events_non_highway = traffic_events_df[traffic_events_df['Street'].str.contains(non_highway_pattern, case=False, regex=True)]\n",
    "\n",
    "traffic_events_non_highway_gdf = gpd.GeoDataFrame(\n",
    "    traffic_events_non_highway,\n",
    "    geometry=gpd.points_from_xy(traffic_events_non_highway.LocationLng, traffic_events_non_highway.LocationLat),\n",
    "    crs=\"EPSG:4326\"\n",
    ")\n",
    "\n",
    "m = folium.Map(location=[38.575764, -121.478851], zoom_start=10)\n",
    "\n",
    "\n",
    "add_circle_markers(traffic_events_non_highway_gdf, m, 'red', popup_column='Street')\n",
    "add_circle_markers(sensors_gdf, m, 'blue', popup_column='ID')\n",
    "\n",
    "# Display the map\n",
    "m"
   ],
   "outputs": [],
   "execution_count": null
  },
  {
   "cell_type": "code",
   "id": "d7899721-f342-44d3-a7ad-2784aa81949a",
   "metadata": {},
   "source": [
    "non_highway_pattern = r'\\b(?:St|Street|Blvd|Boulevard|Rd|Road|Dr|Drive|Ave|Avenue|Ln|Lane|Way|Alley|Aly|Walk|Cir|Ct|Pkwy|Trl|Pl|Xing|Expy|Broadway|Mall)\\b'\n",
    "\n",
    "traffic_events_non_highway = traffic_events_df[~traffic_events_df['Street'].str.contains(non_highway_pattern, case=False, regex=True)]\n",
    "\n",
    "traffic_events_non_highway_gdf = gpd.GeoDataFrame(\n",
    "    traffic_events_non_highway,\n",
    "    geometry=gpd.points_from_xy(traffic_events_non_highway.LocationLng, traffic_events_non_highway.LocationLat),\n",
    "    crs=\"EPSG:4326\"\n",
    ")\n",
    "\n",
    "m = folium.Map(location=[38.575764, -121.478851], zoom_start=10)\n",
    "\n",
    "\n",
    "add_circle_markers(traffic_events_non_highway_gdf, m, 'red', popup_column='Street')\n",
    "add_circle_markers(sensors_gdf, m, 'blue', popup_column='Name')\n",
    "\n",
    "m"
   ],
   "outputs": [],
   "execution_count": null
  },
  {
   "cell_type": "code",
   "id": "3d1c3e2d-bc0e-456c-bf9a-1b8f8d9b27fd",
   "metadata": {},
   "source": [
    "highway_streets = traffic_events_df[~traffic_events_df['Street'].str.contains(non_highway_pattern, case=False, regex=True)]\n",
    "unique_highway_streets = highway_streets['Street'].unique()\n",
    "print(unique_highway_streets)"
   ],
   "outputs": [],
   "execution_count": null
  },
  {
   "cell_type": "code",
   "id": "496197d1-0685-41d0-8872-20f1a2def701",
   "metadata": {},
   "source": [
    "# verify those are not realted to sensor\n",
    "highway_features = [\n",
    "    'Vietnam Veterans Memorial Bridge', # highway\n",
    "    'Garden Hwy',\n",
    "    'Pedestrian Overcrossing', # highway\n",
    "    'Orchard Loop',\n",
    "    'Tower Bridge Gtwy',\n",
    "    'State Highway 113',\n",
    "    'Caltrans Maintenance Worker Memorial Bridge', # highway\n",
    "    'Arden-Garden Connector'\n",
    "]\n",
    "\n",
    "filtered_highway_events = traffic_events_df[traffic_events_df['Street'].isin(highway_features)]\n",
    "\n",
    "filtered_highway_events_gdf = gpd.GeoDataFrame(\n",
    "    filtered_highway_events,\n",
    "    geometry=gpd.points_from_xy(filtered_highway_events.LocationLng, filtered_highway_events.LocationLat),\n",
    "    crs=\"EPSG:4326\"\n",
    ")\n",
    "\n",
    "m = folium.Map(location=[38.575764, -121.478851], zoom_start=10)\n",
    "\n",
    "add_circle_markers(filtered_highway_events_gdf, m, 'red', popup_column='Street')\n",
    "add_circle_markers(sensors_gdf, m, 'blue', popup_column='ID')\n",
    "\n",
    "m"
   ],
   "outputs": [],
   "execution_count": null
  },
  {
   "cell_type": "code",
   "id": "b33bb814-f4aa-43e6-93f2-6e55868f6857",
   "metadata": {},
   "source": [
    "# Define the list of highway candidates\n",
    "highway_candidates = [\n",
    "    'CA-16 E', 'I-80 W', 'CA-99 N', 'I-5 N', 'El Dorado Fwy W', 'CA-65 N',\n",
    "    'Capital City Fwy W', 'CA-99 S', 'US-50 E', 'CA-65 S', 'Capital City Fwy E',\n",
    "    'I-80 E', 'S Sacramento Fwy', 'I-5 S', 'CA-160 N', 'CA-16 W', 'I-80 Bus E',\n",
    "    'CA-160 S', 'US-50 W', 'I-80 Bus W', 'El Dorado Fwy E', 'Vietnam Veterans Memorial Bridge',\n",
    "    'Pedestrian Overcrossing', 'Caltrans Maintenance Worker Memorial Bridge'\n",
    "]\n",
    "highway_candidates = [\n",
    "    'US-50 E', 'I-80 W', 'I-5 N', 'CA-99 N', 'CA-65 N', 'I-80 Bus E', 'Capital City Fwy E', 'CA-16 E', 'El Dorado Fwy E',\n",
    "    'US-50 W', 'I-80 E', 'I-5 S', 'CA-99 S', 'CA-65 S', 'I-80 Bus W', 'Capital City Fwy W', 'CA-16 W', 'El Dorado Fwy W', 'S Sacramento Fwy' # overlap 99\n",
    "]\n",
    "highway_events_df = traffic_events_df[traffic_events_df['Street'].isin(highway_candidates)]\n",
    "non_highway_events_df = traffic_events_df[~traffic_events_df['Street'].isin(highway_candidates)]"
   ],
   "outputs": [],
   "execution_count": null
  },
  {
   "cell_type": "code",
   "id": "925beb62-219c-44ef-b44f-a7b73874a39b",
   "metadata": {},
   "source": [
    "map_highway = folium.Map(location=[38.575764, -121.478851], zoom_start=10)\n",
    "map_non_highway = folium.Map(location=[38.575764, -121.478851], zoom_start=10)\n",
    "\n",
    "# Convert filtered events to GeoDataFrames\n",
    "gdf_highway = gpd.GeoDataFrame(highway_events_df, geometry=gpd.points_from_xy(highway_events_df.LocationLng, highway_events_df.LocationLat))\n",
    "gdf_non_highway = gpd.GeoDataFrame(non_highway_events_df, geometry=gpd.points_from_xy(non_highway_events_df.LocationLng, non_highway_events_df.LocationLat))\n",
    "\n",
    "# Add highway-related traffic events and sensor points to the first map\n",
    "add_circle_markers(gdf_highway, map_highway, 'red', popup_column='Street')\n",
    "add_circle_markers(sensors_gdf, map_highway, 'blue', popup_column='ID')\n",
    "\n",
    "# Add non-highway traffic events and sensor points to the second map\n",
    "add_circle_markers(gdf_non_highway, map_non_highway, 'green', popup_column='Street')\n",
    "add_circle_markers(sensors_gdf, map_non_highway, 'blue', popup_column='ID')\n",
    "\n",
    "map_highway.save('highway_and_sensors_map.html')\n",
    "map_non_highway.save('non_highway_and_sensors_map.html')"
   ],
   "outputs": [],
   "execution_count": null
  },
  {
   "cell_type": "code",
   "id": "b3cfc839-b54c-45d1-9fa8-e55ff96ae02d",
   "metadata": {},
   "source": [
    "map_highway"
   ],
   "outputs": [],
   "execution_count": null
  },
  {
   "cell_type": "code",
   "id": "add86478-012e-4f16-81a4-00e05c323133",
   "metadata": {},
   "source": [
    "highway_events_df.head()"
   ],
   "outputs": [],
   "execution_count": null
  },
  {
   "cell_type": "code",
   "id": "06e6cca4-3607-4871-86b2-c03efb823eeb",
   "metadata": {},
   "source": [
    "gdf_highway_events = gpd.GeoDataFrame(highway_events_df, geometry=gpd.points_from_xy(highway_events_df.LocationLng, highway_events_df.LocationLat))\n",
    "gdf_sensors = gpd.GeoDataFrame(sensors_df, geometry=gpd.points_from_xy(sensors_df.Longitude, sensors_df.Latitude))\n",
    "\n",
    "# gdf_highway_events.crs = \"EPSG:4326\"\n",
    "# gdf_sensors.crs = \"EPSG:4326\"\n",
    "gdf_highway_events.crs = {'init': \"epsg:4326\"}\n",
    "gdf_sensors.crs = {'init': \"epsg:4326\"}\n",
    "\n",
    "# gdf_highway_events = gdf_highway_events.to_crs(\"EPSG:2226\")  # NAD83 / California zone 2 (ftUS)\n",
    "# gdf_sensors = gdf_sensors.to_crs(\"EPSG:2226\")\n",
    "gdf_highway_events = gdf_highway_events.to_crs(epsg=2226)  # NAD83 / California zone 2 (ftUS)\n",
    "gdf_sensors = gdf_sensors.to_crs(epsg=2226)"
   ],
   "outputs": [],
   "execution_count": null
  },
  {
   "cell_type": "markdown",
   "id": "f70774b6-3107-4cb0-8c43-6b23adc35cde",
   "metadata": {},
   "source": [
    "## Highway events matching sensors"
   ]
  },
  {
   "cell_type": "code",
   "id": "ff1ec4d8-b0d5-468d-9ff4-c5de7ec1f3ea",
   "metadata": {},
   "source": [
    "print(sensors_df['Fwy'].unique())"
   ],
   "outputs": [],
   "execution_count": null
  },
  {
   "cell_type": "code",
   "id": "15b23fb0-7666-4184-896c-3cfa4e5002a2",
   "metadata": {},
   "source": [
    "# Define the list of highway candidates\n",
    "# Fwy 51 = Capital City Fwy\n",
    "# CA-16 overlaps 5 & 50, El Dorado overlaps 50\n",
    "highway_candidates = [\n",
    "    'US-50 E', 'I-80 W', 'I-5 N', 'CA-99 N', 'CA-65 N', 'I-80 Bus E', 'Capital City Fwy E', 'CA-16 E', 'El Dorado Fwy E',\n",
    "    'US-50 W', 'I-80 E', 'I-5 S', 'CA-99 S', 'CA-65 S', 'I-80 Bus W', 'Capital City Fwy W', 'CA-16 W', 'El Dorado Fwy W', 'S Sacramento Fwy' # overlap 99\n",
    "]\n",
    "\n",
    "highway_events_df = traffic_events_df[traffic_events_df['Street'].isin(highway_candidates)]"
   ],
   "outputs": [],
   "execution_count": null
  },
  {
   "cell_type": "markdown",
   "id": "bac29743-e3e3-470a-b569-331765fe83d6",
   "metadata": {},
   "source": [
    "# Define the list of highway candidates\n",
    "highway_candidates = [\n",
    "    # 'CA-160 N', 'CA-160 S', 'Vietnam Veterans Memorial Bridge', 'Pedestrian Overcrossing', 'Caltrans Maintenance Worker Memorial Bridge'\n",
    "]\n",
    "\n",
    "highway_events_df = traffic_events_df[traffic_events_df['Street'].isin(highway_candidates)]"
   ]
  },
  {
   "cell_type": "code",
   "id": "351956d2-0277-4284-81ae-71b07edc5958",
   "metadata": {},
   "source": [
    "print(highway_events_df.shape)"
   ],
   "outputs": [],
   "execution_count": null
  },
  {
   "cell_type": "code",
   "id": "89ed0c10-87f7-47c6-a83b-b20b11e234e7",
   "metadata": {},
   "source": [
    "highway_events_df.head()"
   ],
   "outputs": [],
   "execution_count": null
  },
  {
   "cell_type": "code",
   "id": "18c5e47e-5f91-4282-b7f6-1f1a285e13db",
   "metadata": {},
   "source": [
    "map_highway = folium.Map(location=[38.575764, -121.478851], zoom_start=10)\n",
    "\n",
    "# Convert filtered events to GeoDataFrames\n",
    "gdf_highway = gpd.GeoDataFrame(highway_events_df, geometry=gpd.points_from_xy(highway_events_df.LocationLng, highway_events_df.LocationLat))\n",
    "\n",
    "# Add highway-related traffic events and sensor points to the first map\n",
    "add_circle_markers(gdf_highway, map_highway, 'red', popup_column='Street')\n",
    "add_circle_markers(sensors_gdf, map_highway, 'blue', popup_column='Fwy')\n",
    "\n",
    "map_highway"
   ],
   "outputs": [],
   "execution_count": null
  },
  {
   "cell_type": "code",
   "id": "5cb666b6-f8f1-4ba7-81b6-3b37119455ff",
   "metadata": {},
   "source": [
    "# Have to reprojection to calculate distance!\n",
    "gdf_highway_events = gpd.GeoDataFrame(highway_events_df, geometry=gpd.points_from_xy(highway_events_df.LocationLng, highway_events_df.LocationLat))\n",
    "gdf_sensors = gpd.GeoDataFrame(sensors_df, geometry=gpd.points_from_xy(sensors_df.Longitude, sensors_df.Latitude))\n",
    "\n",
    "gdf_highway_events.crs = 'EPSG:4326'\n",
    "gdf_sensors.crs = 'EPSG:4326'\n",
    "# gdf_highway_events = gdf_highway_events.set_crs(4326, allow_override=True)\n",
    "# gdf_sensors = gdf_sensors.set_crs(4326, allow_override=True)\n",
    "\n",
    "print(gdf_highway_events.crs)\n",
    "\n",
    "# gdf_highway_events = gdf_highway_events.to_crs(\"EPSG:2226\")  # NAD83 / California zone 2 (ftUS)\n",
    "# gdf_sensors = gdf_sensors.to_crs(\"EPSG:2226\")\n",
    "gdf_highway_events = gdf_highway_events.to_crs('EPSG:2226')  # NAD83 / California zone 2 (ftUS)\n",
    "gdf_sensors = gdf_sensors.to_crs('EPSG:2226')\n",
    "\n",
    "print(gdf_highway_events.crs)"
   ],
   "outputs": [],
   "execution_count": null
  },
  {
   "cell_type": "code",
   "id": "7ae841cf-3102-4087-ac13-bf75a7d7766e",
   "metadata": {},
   "source": [
    "sensor100_event_df, opp_match_df = analyze_sensor_event_relations(100)\n",
    "print(sensor100_event_df)\n",
    "print(opp_match_df)"
   ],
   "outputs": [],
   "execution_count": null
  },
  {
   "cell_type": "code",
   "id": "e8f54156-1d83-4cca-b028-935a02ae6346",
   "metadata": {},
   "source": [
    "# considering road direction\n",
    "def analyze_sensor_event_relations(buffer_size): \n",
    "    buffer_size_ft = 3.2808333333*buffer_size    # meter to ftUS\n",
    "    gdf_sensors[f'buffer_{buffer_size}'] = gdf_sensors.geometry.buffer(buffer_size_ft)\n",
    "    \n",
    "    joined = gpd.sjoin(gdf_highway_events, gdf_sensors.set_geometry(f'buffer_{buffer_size}'), how='inner', op='within')\n",
    "    events = joined.groupby('ID')['EventId'].apply(lambda x: ','.join(x)).reset_index(name=f'EventId_{buffer_size}')\n",
    "    \n",
    "    sensors_with_events = sensors_df.merge(events, on='ID', how='left')\n",
    "    # print(f\"Number of no traffic event sensors: {sensors_with_events[f'EventId_{buffer_size}'].isnull().sum()}\")\n",
    "    \n",
    "    # For each event ID, merge event details\n",
    "    expanded_rows = []\n",
    "    for idx, row in sensors_with_events.dropna(subset=[f'EventId_{buffer_size}']).iterrows():\n",
    "        event_ids = row[f'EventId_{buffer_size}'].split(',')\n",
    "        for event_id in event_ids:\n",
    "            event_details = highway_events_df[highway_events_df['EventId'] == event_id]\n",
    "            for _, event_row in event_details.iterrows():\n",
    "                combined_row = {**row.to_dict(), **event_row.to_dict()}\n",
    "                expanded_rows.append(combined_row)\n",
    "    \n",
    "    expanded_df = pd.DataFrame(expanded_rows)\n",
    "    columns_to_drop = ['Unnamed: 0', f'EventId_{buffer_size}', 'StartTime(UTC)', 'EndTime(UTC)', 'TimeZone', 'Number']\n",
    "    expanded_df = expanded_df.drop(columns=columns_to_drop)\n",
    "    \n",
    "    # filter out rows {sensor, event} not in same direction\n",
    "    oppo_match_rows = []\n",
    "    for idx, row in expanded_df.iterrows():\n",
    "        if row['Street'] == 'S Sacramento Fwy':\n",
    "            if row['Dir'] != 'S':\n",
    "                oppo_match_rows.append(row)\n",
    "                expanded_df.drop(index=idx, inplace=True)\n",
    "        else:\n",
    "            if row['Dir'] != row['Street'][-1]:\n",
    "                oppo_match_rows.append(row)\n",
    "                expanded_df.drop(index=idx, inplace=True)\n",
    "    oppo_match_df = pd.DataFrame(oppo_match_rows)\n",
    "    \n",
    "    expanded_df.to_csv(f'Sensor_{buffer_size}m_dir_Events_Sep1_Nov30_Sacramento.csv', index=False)\n",
    "    oppo_match_df.to_csv(f'Sensor_{buffer_size}m_opp_Events_Sep1_Nov30_Sacramento.csv', index=False)\n",
    "\n",
    "    return expanded_df, oppo_match_df"
   ],
   "outputs": [],
   "execution_count": null
  },
  {
   "cell_type": "code",
   "id": "af8b29c4-29d3-46e1-b601-420fd8e6b715",
   "metadata": {},
   "source": [
    "# without considering road direction\n",
    "def analyze_sensor_event_relations(buffer_size): \n",
    "    buffer_size_ft = 3.2808333333*buffer_size    # meter to ftUS\n",
    "    gdf_sensors[f'buffer_{buffer_size}'] = gdf_sensors.geometry.buffer(buffer_size_ft)\n",
    "    \n",
    "    joined = gpd.sjoin(gdf_highway_events, gdf_sensors.set_geometry(f'buffer_{buffer_size}'), how='inner', op='within')\n",
    "    events = joined.groupby('ID')['EventId'].apply(lambda x: ','.join(x)).reset_index(name=f'EventId_{buffer_size}')\n",
    "\n",
    "    sensors_with_events = sensors_df.merge(events, on='ID', how='left')\n",
    "    print(f\"Number of no traffic event sensors: {sensors_with_events[f'EventId_{buffer_size}'].isnull().sum()}\")\n",
    "    \n",
    "    # For each event ID, merge event details\n",
    "    expanded_rows = []\n",
    "    for idx, row in sensors_with_events.dropna(subset=[f'EventId_{buffer_size}']).iterrows():\n",
    "        event_ids = row[f'EventId_{buffer_size}'].split(',')\n",
    "        for event_id in event_ids:\n",
    "            event_details = highway_events_df[highway_events_df['EventId'] == event_id]\n",
    "            for _, event_row in event_details.iterrows():\n",
    "                combined_row = {**row.to_dict(), **event_row.to_dict()}\n",
    "                expanded_rows.append(combined_row)\n",
    "    \n",
    "    expanded_df = pd.DataFrame(expanded_rows)\n",
    "    columns_to_drop = ['Unnamed: 0', f'EventId_{buffer_size}', 'StartTime(UTC)', 'EndTime(UTC)', 'TimeZone', 'Number']\n",
    "    expanded_df = expanded_df.drop(columns=columns_to_drop)\n",
    "    \n",
    "    expanded_df.to_csv(f'Sensor_{buffer_size}m_Events_Sep1_Nov30_Sacramento.csv', index=False)\n",
    "\n",
    "    return expanded_df"
   ],
   "outputs": [],
   "execution_count": null
  },
  {
   "cell_type": "code",
   "id": "b2d17a98-c7b7-4c24-b20b-573e52b79cb5",
   "metadata": {},
   "source": [
    "sensor100_event_df = analyze_sensor_event_relations(100)\n",
    "sensor100_event_df"
   ],
   "outputs": [],
   "execution_count": null
  },
  {
   "cell_type": "code",
   "id": "bd21f8ef-f0db-42ca-8410-8a067961957c",
   "metadata": {},
   "source": [
    "sensor50_event_df = analyze_sensor_event_relations(50)"
   ],
   "outputs": [],
   "execution_count": null
  },
  {
   "cell_type": "code",
   "id": "ae7b3e63-ffc0-4fd8-a2d7-e9b27ec4cec0",
   "metadata": {},
   "source": [
    "sensor50_event_df"
   ],
   "outputs": [],
   "execution_count": null
  },
  {
   "cell_type": "code",
   "id": "6768c532-be6a-4aaa-ae25-c269f6e1c750",
   "metadata": {},
   "source": [
    "sensor200_event_df = analyze_sensor_event_relations(200)"
   ],
   "outputs": [],
   "execution_count": null
  },
  {
   "cell_type": "code",
   "id": "b1b209dd-49bd-4fee-b9a5-87d71635435e",
   "metadata": {},
   "source": [
    "sensor200_event_df.columns"
   ],
   "outputs": [],
   "execution_count": null
  },
  {
   "cell_type": "code",
   "id": "21bfa71e-c40b-4f92-bc9c-b33c31666f6f",
   "metadata": {},
   "source": [
    "print(sensor200_event_df['Type'].unique())"
   ],
   "outputs": [],
   "execution_count": null
  },
  {
   "cell_type": "code",
   "id": "576ea7f5-ee5e-4914-96b3-fceaf2d91953",
   "metadata": {},
   "source": [],
   "outputs": [],
   "execution_count": null
  }
 ],
 "metadata": {
  "kernelspec": {
   "display_name": "Python 3",
   "language": "python",
   "name": "python3"
  },
  "language_info": {
   "codemirror_mode": {
    "name": "ipython",
    "version": 3
   },
   "file_extension": ".py",
   "mimetype": "text/x-python",
   "name": "python",
   "nbconvert_exporter": "python",
   "pygments_lexer": "ipython3",
   "version": "3.8.12"
  }
 },
 "nbformat": 4,
 "nbformat_minor": 5
}
